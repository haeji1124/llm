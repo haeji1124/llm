{
 "cells": [
  {
   "cell_type": "code",
   "execution_count": 3,
   "metadata": {},
   "outputs": [
    {
     "name": "stderr",
     "output_type": "stream",
     "text": [
      "c:\\STUDY\\Programing\\Python\\gpt\\3\\env\\lib\\site-packages\\langchain\\llms\\openai.py:216: UserWarning: You are trying to use a chat model. This way of initializing it is no longer supported. Instead, please use: `from langchain.chat_models import ChatOpenAI`\n",
      "  warnings.warn(\n",
      "c:\\STUDY\\Programing\\Python\\gpt\\3\\env\\lib\\site-packages\\langchain\\llms\\openai.py:811: UserWarning: You are trying to use a chat model. This way of initializing it is no longer supported. Instead, please use: `from langchain.chat_models import ChatOpenAI`\n",
      "  warnings.warn(\n"
     ]
    },
    {
     "data": {
      "text/plain": [
       "('우주에는 수십억 개의 행성이 존재하는 것으로 추정됩니다. 그러나 현재까지 지구 외의 행성을 직접 관측한 것은 극희 소수뿐이기 때문에 정확한 수를 말하기는 어렵습니다.',\n",
       " '태양계에는 8개의 행성이 있습니다. 이들은 수성, 금성, 지구, 화성, 목성, 토성, 천왕성, 해왕성입니다. 추가로 소행성대 및 왜행성들도 존재합니다.')"
      ]
     },
     "execution_count": 3,
     "metadata": {},
     "output_type": "execute_result"
    }
   ],
   "source": [
    "from langchain.llms.openai import OpenAI\n",
    "from langchain.chat_models import ChatOpenAI\n",
    "\n",
    "llm = OpenAI(model_name=\"gpt-3.5-turbo-1106\")\n",
    "chat = ChatOpenAI(model_name=\"gpt-3.5-turbo\")\n",
    "\n",
    "a = llm.predict(\"행성은 몇개가 있나요?\")  # davinci\n",
    "b = chat.predict(\"행성은 몇개가 있나요?\") # gpt-3.5-turbo\n",
    "\n",
    "a,b\n"
   ]
  },
  {
   "cell_type": "code",
   "execution_count": 6,
   "metadata": {},
   "outputs": [
    {
     "data": {
      "text/plain": [
       "AIMessage(content='Mi dispiace, ma non posso fornire informazioni precise sulla distanza tra Messico e Thailandia in quanto non ho accesso a internet. Il mio nome è Paolo. Posso aiutarti con altre domande sulla geografia?')"
      ]
     },
     "execution_count": 6,
     "metadata": {},
     "output_type": "execute_result"
    }
   ],
   "source": [
    "chat = ChatOpenAI(\n",
    "    model_name=\"gpt-3.5-turbo\",\n",
    "    temperature=0.1 # 창의성을 나타내는 지표. 높을수록 창의적\n",
    ")\n",
    "\n",
    "from langchain.schema import HumanMessage, AIMessage, SystemMessage\n",
    "# AIMessage : AI에 의해 보내지는거\n",
    "# SystemMessage : 우리가 LLM에 설정들을 제공하기 위한 Message\n",
    "\n",
    "messages = [\n",
    "    SystemMessage(content=\"당신은 지리학자입니다. 당신은 오직 이탈리아어로 대답합니다.\"),\n",
    "    # SystemMessage(content=\"you are a geography expert. And you only reply in italian.\"),\n",
    "    AIMessage(content=\"ciao, mi chiamo Paolo\"),\n",
    "    HumanMessage(content=\"멕시코와 태국 사이의 거리는 어떻게 되나요? 그리고 당신의 이름은 무엇인가요?\")\n",
    "]\n",
    "\n",
    "chat.predict_messages(messages)"
   ]
  },
  {
   "cell_type": "code",
   "execution_count": null,
   "metadata": {},
   "outputs": [],
   "source": []
  }
 ],
 "metadata": {
  "kernelspec": {
   "display_name": "env",
   "language": "python",
   "name": "python3"
  },
  "language_info": {
   "codemirror_mode": {
    "name": "ipython",
    "version": 3
   },
   "file_extension": ".py",
   "mimetype": "text/x-python",
   "name": "python",
   "nbconvert_exporter": "python",
   "pygments_lexer": "ipython3",
   "version": "3.9.2"
  },
  "orig_nbformat": 4,
  "vscode": {
   "interpreter": {
    "hash": "7d195b87c65532a9b0163862d9bb1aed47fdee88c10b42f49eb8d2e192227d46"
   }
  }
 },
 "nbformat": 4,
 "nbformat_minor": 2
}
