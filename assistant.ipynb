{
 "cells": [
  {
   "cell_type": "code",
   "execution_count": null,
   "metadata": {},
   "outputs": [],
   "source": [
    "from openai import OpenAI\n",
    "\n",
    "functions = [\n",
    "    {\n",
    "        \"type\":\"function\",\n",
    "        \"function\":{\n",
    "            \"name\":\"get_ticker\",\n",
    "            \"description\":\"Given the name of a company returns its ticker symbol\",\n",
    "            \"parameters\":{\n",
    "                \"type\":\"object\",\n",
    "                \"properties\":{\n",
    "                    \"company_name\":{\n",
    "                        \"type\":\"string\",\n",
    "                        \"description\":\"The name of the company\"\n",
    "                    }\n",
    "                },\n",
    "                \"required\":[\"company_name\"]\n",
    "            }\n",
    "        }\n",
    "    }\n",
    "]\n",
    "\n",
    "client = OpenAI()\n",
    "\n",
    "assistant = client.beta.assistants.create(\n",
    "name=\"Investor Assistant\",\n",
    "instructions=\"You help users do research on publicly traded companies and you help users decide if they should buy the stock or not.\",\n",
    "tools=functions,\n",
    "model=\"gpt-4o\",\n",
    ")"
   ]
  }
 ],
 "metadata": {
  "language_info": {
   "name": "python"
  },
  "orig_nbformat": 4
 },
 "nbformat": 4,
 "nbformat_minor": 2
}
